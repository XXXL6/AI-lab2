{
 "cells": [
  {
   "cell_type": "markdown",
   "id": "9f0d5094",
   "metadata": {},
   "source": [
    "## 一.导入包"
   ]
  },
  {
   "cell_type": "code",
   "execution_count": null,
   "id": "2ffc7a7e",
   "metadata": {},
   "outputs": [],
   "source": [
    "import os\n",
    "import ast\n",
    "import argparse\n",
    "import mindspore.nn as nn\n",
    "from mindspore import context\n",
    "from mindspore.train.serialization import load_checkpoint, load_param_into_net\n",
    "from mindspore.train import Model\n",
    "from mindspore.nn.metrics import Accuracy\n",
    "from src.dataset import create_dataset\n",
    "from src.config import mnist_cfg as cfg\n",
    "from src.lenet import LeNet5"
   ]
  },
  {
   "cell_type": "markdown",
   "id": "b582e859",
   "metadata": {},
   "source": [
    "## 二.设备设置"
   ]
  },
  {
   "cell_type": "code",
   "execution_count": null,
   "id": "94cd2dc2",
   "metadata": {},
   "outputs": [],
   "source": [
    "parser = argparse.ArgumentParser(description='MindSpore Lenet Example')\n",
    "parser.add_argument('--device_target', type=str, default=\"CPU\", choices=['Ascend', 'GPU', 'CPU'],\n",
    "                        help='device where the code will be implemented (default: Ascend)')\n",
    "parser.add_argument('--data_path', type=str, default=\"./MNIST_Data\",\n",
    "                        help='path where the dataset is saved')\n",
    "                        #设置验证问文件\n",
    "parser.add_argument('--ckpt_path', type=str, default=\"ckpt/checkpoint_lenet-10_1875.ckpt\", help='if mode is test, must provide\\\n",
    "                        path where the trained ckpt file')\n",
    "parser.add_argument('--dataset_sink_mode', type=ast.literal_eval,\n",
    "                        default=False, help='dataset_sink_mode is False or True')\n",
    "\n",
    "args = parser.parse_known_args()[0]\n",
    "\n",
    "context.set_context(mode=context.GRAPH_MODE, device_target=args.device_target)"
   ]
  },
  {
   "cell_type": "markdown",
   "id": "3d418a37",
   "metadata": {},
   "source": [
    "## 三.预备工作"
   ]
  },
  {
   "cell_type": "code",
   "execution_count": null,
   "id": "094f8ed0",
   "metadata": {},
   "outputs": [],
   "source": [
    "network = LeNet5(cfg.num_classes)\n",
    "#设定loss函数\n",
    "net_loss = nn.SoftmaxCrossEntropyWithLogits(sparse=True, reduction=\"mean\")\n",
    "repeat_size = cfg.epoch_size\n",
    "#设定优化器\n",
    "net_opt = nn.Momentum(network.trainable_params(), cfg.lr, cfg.momentum)\n",
    "#编译形成模型\n",
    "model = Model(network, net_loss, net_opt, metrics={\"Accuracy\": Accuracy()})"
   ]
  },
  {
   "cell_type": "markdown",
   "id": "71c2401a",
   "metadata": {},
   "source": [
    "## 四.开始测试"
   ]
  },
  {
   "cell_type": "code",
   "execution_count": null,
   "id": "435bbba0",
   "metadata": {},
   "outputs": [],
   "source": [
    "param_dict = load_checkpoint(args.ckpt_path)\n",
    "load_param_into_net(network, param_dict)\n",
    "ds_eval = create_dataset(os.path.join(args.data_path, \"test\"),\n",
    "                             cfg.batch_size, # type: ignore\n",
    "                             1)\n",
    "acc = model.eval(ds_eval, dataset_sink_mode=args.dataset_sink_mode)\n",
    "print(\"============== {} ==============\".format(acc))"
   ]
  }
 ],
 "metadata": {
  "kernelspec": {
   "display_name": "aiLab",
   "language": "python",
   "name": "python3"
  },
  "language_info": {
   "codemirror_mode": {
    "name": "ipython",
    "version": 3
   },
   "file_extension": ".py",
   "mimetype": "text/x-python",
   "name": "python",
   "nbconvert_exporter": "python",
   "pygments_lexer": "ipython3",
   "version": "3.11.11"
  }
 },
 "nbformat": 4,
 "nbformat_minor": 5
}
