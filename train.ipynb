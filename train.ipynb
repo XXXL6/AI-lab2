{
 "cells": [
  {
   "cell_type": "markdown",
   "id": "51e855d0",
   "metadata": {},
   "source": [
    "## 一.导入包"
   ]
  },
  {
   "cell_type": "code",
   "execution_count": null,
   "id": "58f987bc",
   "metadata": {},
   "outputs": [],
   "source": [
    "import os\n",
    "import ast\n",
    "import argparse\n",
    "from src.config import mnist_cfg as cfg\n",
    "from src.dataset import create_dataset\n",
    "from src.lenet import LeNet5\n",
    "import mindspore.nn as nn\n",
    "from mindspore import context\n",
    "from mindspore.train.callback import ModelCheckpoint, CheckpointConfig, LossMonitor, TimeMonitor\n",
    "from mindspore.train import Model\n",
    "from mindspore.nn.metrics import Accuracy\n",
    "from mindspore.common import set_seed"
   ]
  },
  {
   "cell_type": "markdown",
   "id": "7c680392",
   "metadata": {},
   "source": [
    "## 二.设备设置"
   ]
  },
  {
   "cell_type": "code",
   "execution_count": null,
   "id": "0179324f",
   "metadata": {},
   "outputs": [],
   "source": [
    "parser = argparse.ArgumentParser(description='MindSpore Lenet Example')"
   ]
  },
  {
   "cell_type": "code",
   "execution_count": null,
   "id": "23d96ec4",
   "metadata": {},
   "outputs": [],
   "source": [
    "parser.add_argument('--device_target', type=str, default=\"CPU\", choices=['Ascend', 'GPU', 'CPU'],\n",
    "                        help='device where the code will be implemented (default: Ascend)')\n",
    "parser.add_argument('--data_path', type=str, default=\"./MNIST_Data\",\n",
    "                        help='path where the dataset is saved')\n",
    "parser.add_argument('--ckpt_path', type=str, default=\"./ckpt\", help='if is test, must provide\\\n",
    "                        path where the trained ckpt file')\n",
    "parser.add_argument('--dataset_sink_mode', type=ast.literal_eval, default=True,\n",
    "                        help='dataset_sink_mode is False or True')\n",
    "\n",
    "args = parser.parse_known_args()[0]"
   ]
  },
  {
   "cell_type": "markdown",
   "id": "22f88c30",
   "metadata": {},
   "source": [
    "## 三.数据集处理"
   ]
  },
  {
   "cell_type": "code",
   "execution_count": null,
   "id": "67105b3f",
   "metadata": {},
   "outputs": [],
   "source": [
    "context.set_context(mode=context.GRAPH_MODE, device_target=args.device_target)\n",
    "ds_train = create_dataset(os.path.join(args.data_path, \"train\"), cfg.batch_size)\n",
    "ds_eval = create_dataset(os.path.join(args.data_path, \"test\"), cfg.batch_size, 1)\n",
    "\n",
    "network = LeNet5(cfg.num_classes)"
   ]
  },
  {
   "cell_type": "markdown",
   "id": "1dd79e21",
   "metadata": {},
   "source": [
    "## 四.准备工作"
   ]
  },
  {
   "cell_type": "code",
   "execution_count": null,
   "id": "4f51483d",
   "metadata": {},
   "outputs": [],
   "source": [
    "#设定loss函数\n",
    "net_loss = nn.SoftmaxCrossEntropyWithLogits(sparse=True, reduction=\"mean\")\n",
    " #设定优化器\n",
    "net_opt = nn.Momentum(network.trainable_params(), cfg.lr, cfg.momentum)\n",
    "time_cb = TimeMonitor(data_size=ds_train.get_dataset_size())\n",
    "config_ck = CheckpointConfig(save_checkpoint_steps=cfg.save_checkpoint_steps,\n",
    "                             keep_checkpoint_max=cfg.keep_checkpoint_max)\n",
    "ckpoint_cb = ModelCheckpoint(prefix=\"checkpoint_lenet\", directory=args.ckpt_path, config=config_ck)\n",
    "#编译形成模型\n",
    "model = Model(network, net_loss, net_opt, metrics={\"Accuracy\": Accuracy()})"
   ]
  },
  {
   "cell_type": "markdown",
   "id": "341cab7a",
   "metadata": {},
   "source": [
    "## 五.开始训练"
   ]
  },
  {
   "cell_type": "code",
   "execution_count": null,
   "id": "e625d0b5",
   "metadata": {},
   "outputs": [],
   "source": [
    "model.train(\n",
    "    cfg[\"epoch_size\"],\n",
    "    ds_train,\n",
    "    callbacks=[time_cb, ckpoint_cb, LossMonitor()],\n",
    "    dataset_sink_mode=args.dataset_sink_mode,\n",
    ")"
   ]
  }
 ],
 "metadata": {
  "kernelspec": {
   "display_name": "aiLab",
   "language": "python",
   "name": "python3"
  },
  "language_info": {
   "codemirror_mode": {
    "name": "ipython",
    "version": 3
   },
   "file_extension": ".py",
   "mimetype": "text/x-python",
   "name": "python",
   "nbconvert_exporter": "python",
   "pygments_lexer": "ipython3",
   "version": "3.11.11"
  }
 },
 "nbformat": 4,
 "nbformat_minor": 5
}
